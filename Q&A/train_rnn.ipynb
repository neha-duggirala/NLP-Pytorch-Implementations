{
 "cells": [
  {
   "cell_type": "code",
   "execution_count": null,
   "metadata": {},
   "outputs": [
    {
     "ename": "ModuleNotFoundError",
     "evalue": "No module named 'lstm'",
     "output_type": "error",
     "traceback": [
      "\u001b[0;31m---------------------------------------------------------------------------\u001b[0m",
      "\u001b[0;31mModuleNotFoundError\u001b[0m                       Traceback (most recent call last)",
      "Cell \u001b[0;32mIn[1], line 5\u001b[0m\n\u001b[1;32m      3\u001b[0m \u001b[38;5;28;01mimport\u001b[39;00m \u001b[38;5;21;01mtorch\u001b[39;00m\u001b[38;5;21;01m.\u001b[39;00m\u001b[38;5;21;01moptim\u001b[39;00m \u001b[38;5;28;01mas\u001b[39;00m \u001b[38;5;21;01moptim\u001b[39;00m\n\u001b[1;32m      4\u001b[0m \u001b[38;5;28;01mimport\u001b[39;00m \u001b[38;5;21;01mtorch\u001b[39;00m\u001b[38;5;21;01m.\u001b[39;00m\u001b[38;5;21;01mnn\u001b[39;00m \u001b[38;5;28;01mas\u001b[39;00m \u001b[38;5;21;01mnn\u001b[39;00m\n\u001b[0;32m----> 5\u001b[0m \u001b[38;5;28;01mfrom\u001b[39;00m \u001b[38;5;21;01mlstm\u001b[39;00m \u001b[38;5;28;01mimport\u001b[39;00m SimpleLSTM\n",
      "\u001b[0;31mModuleNotFoundError\u001b[0m: No module named 'lstm'"
     ]
    }
   ],
   "source": [
    "import pandas as pd\n",
    "from rnn import simpleRnn\n",
    "import torch.optim as optim\n",
    "import torch.nn as nn\n"
   ]
  },
  {
   "cell_type": "code",
   "execution_count": null,
   "metadata": {},
   "outputs": [
    {
     "data": {
      "application/vnd.microsoft.datawrangler.viewer.v0+json": {
       "columns": [
        {
         "name": "index",
         "rawType": "int64",
         "type": "integer"
        },
        {
         "name": "question",
         "rawType": "object",
         "type": "string"
        },
        {
         "name": "answer",
         "rawType": "object",
         "type": "string"
        }
       ],
       "ref": "2e0fac2b-6dfa-435e-a7d1-a4ab09eb4a4f",
       "rows": [
        [
         "0",
         "What is the capital of France?",
         "Paris"
        ],
        [
         "1",
         "What is the capital of Germany?",
         "Berlin"
        ],
        [
         "2",
         "Who wrote 'To Kill a Mockingbird'?",
         "Harper-Lee"
        ],
        [
         "3",
         "What is the largest planet in our solar system?",
         "Jupiter"
        ],
        [
         "4",
         "What is the boiling point of water in Celsius?",
         "100"
        ]
       ],
       "shape": {
        "columns": 2,
        "rows": 5
       }
      },
      "text/html": [
       "<div>\n",
       "<style scoped>\n",
       "    .dataframe tbody tr th:only-of-type {\n",
       "        vertical-align: middle;\n",
       "    }\n",
       "\n",
       "    .dataframe tbody tr th {\n",
       "        vertical-align: top;\n",
       "    }\n",
       "\n",
       "    .dataframe thead th {\n",
       "        text-align: right;\n",
       "    }\n",
       "</style>\n",
       "<table border=\"1\" class=\"dataframe\">\n",
       "  <thead>\n",
       "    <tr style=\"text-align: right;\">\n",
       "      <th></th>\n",
       "      <th>question</th>\n",
       "      <th>answer</th>\n",
       "    </tr>\n",
       "  </thead>\n",
       "  <tbody>\n",
       "    <tr>\n",
       "      <th>0</th>\n",
       "      <td>What is the capital of France?</td>\n",
       "      <td>Paris</td>\n",
       "    </tr>\n",
       "    <tr>\n",
       "      <th>1</th>\n",
       "      <td>What is the capital of Germany?</td>\n",
       "      <td>Berlin</td>\n",
       "    </tr>\n",
       "    <tr>\n",
       "      <th>2</th>\n",
       "      <td>Who wrote 'To Kill a Mockingbird'?</td>\n",
       "      <td>Harper-Lee</td>\n",
       "    </tr>\n",
       "    <tr>\n",
       "      <th>3</th>\n",
       "      <td>What is the largest planet in our solar system?</td>\n",
       "      <td>Jupiter</td>\n",
       "    </tr>\n",
       "    <tr>\n",
       "      <th>4</th>\n",
       "      <td>What is the boiling point of water in Celsius?</td>\n",
       "      <td>100</td>\n",
       "    </tr>\n",
       "  </tbody>\n",
       "</table>\n",
       "</div>"
      ],
      "text/plain": [
       "                                          question      answer\n",
       "0                   What is the capital of France?       Paris\n",
       "1                  What is the capital of Germany?      Berlin\n",
       "2               Who wrote 'To Kill a Mockingbird'?  Harper-Lee\n",
       "3  What is the largest planet in our solar system?     Jupiter\n",
       "4   What is the boiling point of water in Celsius?         100"
      ]
     },
     "execution_count": 2,
     "metadata": {},
     "output_type": "execute_result"
    }
   ],
   "source": [
    "df  = pd.read_csv(\"100_Unique_QA_Dataset.csv\")\n",
    "df.head()"
   ]
  },
  {
   "cell_type": "code",
   "execution_count": null,
   "metadata": {},
   "outputs": [
    {
     "data": {
      "text/plain": [
       "(90, 2)"
      ]
     },
     "execution_count": 3,
     "metadata": {},
     "output_type": "execute_result"
    }
   ],
   "source": [
    "df.shape"
   ]
  },
  {
   "cell_type": "code",
   "execution_count": null,
   "metadata": {},
   "outputs": [],
   "source": [
    "def preprocess(text):\n",
    "    text = text.lower()\n",
    "    text = text.replace(\"?\",\"\")\n",
    "    text = text.replace(\"'\",\"\")\n",
    "    return text.split()"
   ]
  },
  {
   "cell_type": "code",
   "execution_count": null,
   "metadata": {},
   "outputs": [],
   "source": [
    "df['clean_Q'] = df['question'].apply(preprocess)\n",
    "df['clean_A'] = df['answer'].apply(preprocess)"
   ]
  },
  {
   "cell_type": "code",
   "execution_count": null,
   "metadata": {},
   "outputs": [
    {
     "data": {
      "application/vnd.microsoft.datawrangler.viewer.v0+json": {
       "columns": [
        {
         "name": "index",
         "rawType": "int64",
         "type": "integer"
        },
        {
         "name": "question",
         "rawType": "object",
         "type": "string"
        },
        {
         "name": "answer",
         "rawType": "object",
         "type": "string"
        },
        {
         "name": "clean_Q",
         "rawType": "object",
         "type": "unknown"
        },
        {
         "name": "clean_A",
         "rawType": "object",
         "type": "unknown"
        }
       ],
       "ref": "20e0133c-b061-4b16-8eb8-d8701a26b6c8",
       "rows": [
        [
         "0",
         "What is the capital of France?",
         "Paris",
         "['what', 'is', 'the', 'capital', 'of', 'france']",
         "['paris']"
        ],
        [
         "1",
         "What is the capital of Germany?",
         "Berlin",
         "['what', 'is', 'the', 'capital', 'of', 'germany']",
         "['berlin']"
        ],
        [
         "2",
         "Who wrote 'To Kill a Mockingbird'?",
         "Harper-Lee",
         "['who', 'wrote', 'to', 'kill', 'a', 'mockingbird']",
         "['harper-lee']"
        ],
        [
         "3",
         "What is the largest planet in our solar system?",
         "Jupiter",
         "['what', 'is', 'the', 'largest', 'planet', 'in', 'our', 'solar', 'system']",
         "['jupiter']"
        ],
        [
         "4",
         "What is the boiling point of water in Celsius?",
         "100",
         "['what', 'is', 'the', 'boiling', 'point', 'of', 'water', 'in', 'celsius']",
         "['100']"
        ]
       ],
       "shape": {
        "columns": 4,
        "rows": 5
       }
      },
      "text/html": [
       "<div>\n",
       "<style scoped>\n",
       "    .dataframe tbody tr th:only-of-type {\n",
       "        vertical-align: middle;\n",
       "    }\n",
       "\n",
       "    .dataframe tbody tr th {\n",
       "        vertical-align: top;\n",
       "    }\n",
       "\n",
       "    .dataframe thead th {\n",
       "        text-align: right;\n",
       "    }\n",
       "</style>\n",
       "<table border=\"1\" class=\"dataframe\">\n",
       "  <thead>\n",
       "    <tr style=\"text-align: right;\">\n",
       "      <th></th>\n",
       "      <th>question</th>\n",
       "      <th>answer</th>\n",
       "      <th>clean_Q</th>\n",
       "      <th>clean_A</th>\n",
       "    </tr>\n",
       "  </thead>\n",
       "  <tbody>\n",
       "    <tr>\n",
       "      <th>0</th>\n",
       "      <td>What is the capital of France?</td>\n",
       "      <td>Paris</td>\n",
       "      <td>[what, is, the, capital, of, france]</td>\n",
       "      <td>[paris]</td>\n",
       "    </tr>\n",
       "    <tr>\n",
       "      <th>1</th>\n",
       "      <td>What is the capital of Germany?</td>\n",
       "      <td>Berlin</td>\n",
       "      <td>[what, is, the, capital, of, germany]</td>\n",
       "      <td>[berlin]</td>\n",
       "    </tr>\n",
       "    <tr>\n",
       "      <th>2</th>\n",
       "      <td>Who wrote 'To Kill a Mockingbird'?</td>\n",
       "      <td>Harper-Lee</td>\n",
       "      <td>[who, wrote, to, kill, a, mockingbird]</td>\n",
       "      <td>[harper-lee]</td>\n",
       "    </tr>\n",
       "    <tr>\n",
       "      <th>3</th>\n",
       "      <td>What is the largest planet in our solar system?</td>\n",
       "      <td>Jupiter</td>\n",
       "      <td>[what, is, the, largest, planet, in, our, sola...</td>\n",
       "      <td>[jupiter]</td>\n",
       "    </tr>\n",
       "    <tr>\n",
       "      <th>4</th>\n",
       "      <td>What is the boiling point of water in Celsius?</td>\n",
       "      <td>100</td>\n",
       "      <td>[what, is, the, boiling, point, of, water, in,...</td>\n",
       "      <td>[100]</td>\n",
       "    </tr>\n",
       "  </tbody>\n",
       "</table>\n",
       "</div>"
      ],
      "text/plain": [
       "                                          question      answer  \\\n",
       "0                   What is the capital of France?       Paris   \n",
       "1                  What is the capital of Germany?      Berlin   \n",
       "2               Who wrote 'To Kill a Mockingbird'?  Harper-Lee   \n",
       "3  What is the largest planet in our solar system?     Jupiter   \n",
       "4   What is the boiling point of water in Celsius?         100   \n",
       "\n",
       "                                             clean_Q       clean_A  \n",
       "0               [what, is, the, capital, of, france]       [paris]  \n",
       "1              [what, is, the, capital, of, germany]      [berlin]  \n",
       "2             [who, wrote, to, kill, a, mockingbird]  [harper-lee]  \n",
       "3  [what, is, the, largest, planet, in, our, sola...     [jupiter]  \n",
       "4  [what, is, the, boiling, point, of, water, in,...         [100]  "
      ]
     },
     "execution_count": 6,
     "metadata": {},
     "output_type": "execute_result"
    }
   ],
   "source": [
    "df.head()"
   ]
  },
  {
   "cell_type": "code",
   "execution_count": null,
   "metadata": {},
   "outputs": [],
   "source": [
    "vocab = {'UNK':0}"
   ]
  },
  {
   "cell_type": "code",
   "execution_count": null,
   "metadata": {},
   "outputs": [
    {
     "name": "stdout",
     "output_type": "stream",
     "text": [
      "Vocabulary: {'UNK': 0, 'what': 1, 'is': 2, 'the': 3, 'capital': 4, 'of': 5, 'france': 6, 'germany': 7, 'who': 8, 'wrote': 9, 'to': 10, 'kill': 11, 'a': 12, 'mockingbird': 13, 'largest': 14, 'planet': 15, 'in': 16, 'our': 17, 'solar': 18, 'system': 19, 'boiling': 20, 'point': 21, 'water': 22, 'celsius': 23, 'painted': 24, 'mona': 25, 'lisa': 26, 'square': 27, 'root': 28, '64': 29, 'chemical': 30, 'symbol': 31, 'for': 32, 'gold': 33, 'which': 34, 'year': 35, 'did': 36, 'world': 37, 'war': 38, 'ii': 39, 'end': 40, 'longest': 41, 'river': 42, 'japan': 43, 'developed': 44, 'theory': 45, 'relativity': 46, 'freezing': 47, 'fahrenheit': 48, 'known': 49, 'as': 50, 'red': 51, 'author': 52, '1984': 53, 'currency': 54, 'united': 55, 'kingdom': 56, 'india': 57, 'discovered': 58, 'gravity': 59, 'how': 60, 'many': 61, 'continents': 62, 'are': 63, 'there': 64, 'on': 65, 'earth': 66, 'gas': 67, 'do': 68, 'plants': 69, 'use': 70, 'photosynthesis': 71, 'smallest': 72, 'prime': 73, 'number': 74, 'invented': 75, 'telephone': 76, 'australia': 77, 'ocean': 78, 'speed': 79, 'light': 80, 'vacuum': 81, 'language': 82, 'spoken': 83, 'brazil': 84, 'penicillin': 85, 'canada': 86, 'mammal': 87, 'element': 88, 'has': 89, 'atomic': 90, '1': 91, 'tallest': 92, 'mountain': 93, 'city': 94, 'big': 95, 'apple': 96, 'planets': 97, 'starry': 98, 'night': 99, 'formula': 100, 'italy': 101, 'country': 102, 'famous': 103, 'sushi': 104, 'was': 105, 'first': 106, 'person': 107, 'step': 108, 'moon': 109, 'main': 110, 'ingredient': 111, 'guacamole': 112, 'sides': 113, 'does': 114, 'hexagon': 115, 'have': 116, 'china': 117, 'pride': 118, 'and': 119, 'prejudice': 120, 'iron': 121, 'hardest': 122, 'natural': 123, 'substance': 124, 'continent': 125, 'by': 126, 'area': 127, 'president': 128, 'states': 129, 'bird': 130, 'its': 131, 'ability': 132, 'mimic': 133, 'sounds': 134, 'longest-running': 135, 'animated': 136, 'tv': 137, 'show': 138, 'most': 139, 'moons': 140, 'romeo': 141, 'juliet': 142, 'earths': 143, 'atmosphere': 144, 'bones': 145, 'adult': 146, 'human': 147, 'body': 148, 'metal': 149, 'liquid': 150, 'at': 151, 'room': 152, 'temperature': 153, 'russia': 154, 'electricity': 155, 'second-largest': 156, 'land': 157, 'color': 158, 'ripe': 159, 'banana': 160, 'month': 161, '28': 162, 'days': 163, 'common': 164, 'study': 165, 'living': 166, 'organisms': 167, 'called': 168, 'home': 169, 'great': 170, 'wall': 171, 'bees': 172, 'collect': 173, 'from': 174, 'flowers': 175, 'opposite': 176, 'day': 177, 'south': 178, 'korea': 179, 'bulb': 180, 'humans': 181, 'breathe': 182, 'survival': 183, '144': 184, 'pyramids': 185, 'giza': 186, 'sea': 187, 'creature': 188, 'eight': 189, 'arms': 190, 'holiday': 191, 'celebrated': 192, 'december': 193, '25': 194, 'legs': 195, 'spider': 196, 'sport': 197, 'uses': 198, 'net,': 199, 'ball,': 200, 'hoop': 201, 'kangaroos': 202, 'female': 203, 'minister': 204, 'uk': 205, 'fastest': 206, 'animal': 207, 'periodic': 208, 'table': 209, 'spain': 210, 'closest': 211, 'sun': 212, 'father': 213, 'computers': 214, 'mexico': 215, 'colors': 216, 'rainbow': 217, 'musical': 218, 'instrument': 219, 'black': 220, 'white': 221, 'keys': 222, 'americas': 223, '1492': 224, 'disney': 225, 'character': 226, 'long': 227, 'nose': 228, 'grows': 229, 'it': 230, 'when': 231, 'lying': 232, 'directed': 233, 'movie': 234, 'titanic': 235, 'superhero': 236, 'also': 237, 'dark': 238, 'knight': 239, 'fruit': 240, 'king': 241, 'fruits': 242, 'eiffel': 243, 'tower': 244, 'paris': 245, 'berlin': 246, 'harper-lee': 247, 'jupiter': 248, '100': 249, 'leonardo-da-vinci': 250, '8': 251, 'au': 252, '1945': 253, 'nile': 254, 'tokyo': 255, 'albert-einstein': 256, '32': 257, 'mars': 258, 'george-orwell': 259, 'pound': 260, 'delhi': 261, 'newton': 262, '7': 263, 'co2': 264, '2': 265, 'alexander-graham-bell': 266, 'canberra': 267, 'pacific-ocean': 268, '299,792,458m/s': 269, 'portuguese': 270, 'alexander-fleming': 271, 'ottawa': 272, 'whale': 273, 'hydrogen': 274, 'everest': 275, 'newyork': 276, 'vangogh': 277, 'h2o': 278, 'rome': 279, 'armstrong': 280, 'avocado': 281, '6': 282, 'yuan': 283, 'jane-austen': 284, 'fe': 285, 'diamond': 286, 'asia': 287, 'george-washington': 288, 'parrot': 289, 'simpsons': 290, 'vaticancity': 291, 'saturn': 292, 'shakespeare': 293, 'nitrogen': 294, '206': 295, 'mercury': 296, 'moscow': 297, 'benjamin-franklin': 298, 'yellow': 299, 'february': 300, 'biology': 301, 'nectar': 302, 'seoul': 303, 'edison': 304, 'oxygen': 305, '12': 306, 'egypt': 307, 'octopus': 308, 'christmas': 309, 'yen': 310, 'basketball': 311, 'margaretthatcher': 312, 'cheetah': 313, 'madrid': 314, 'charlesbabbage': 315, 'mexicocity': 316, 'piano': 317, 'christophercolumbus': 318, 'pinocchio': 319, 'jamescameron': 320, 'batman': 321, 'brasilia': 322, 'mango': 323}\n"
     ]
    }
   ],
   "source": [
    "# Convert clean_Q and clean_A to list of tokens\n",
    "questions_tokens = df['clean_Q'].tolist()\n",
    "answers_tokens = df['clean_A'].tolist()\n",
    "\n",
    "# Update vocab with unique tokens from clean_Q and clean_A\n",
    "for tokens in questions_tokens + answers_tokens:\n",
    "    for token in tokens:\n",
    "        if token not in vocab:\n",
    "            vocab[token] = len(vocab)\n",
    "\n",
    "print(\"Vocabulary:\", vocab)"
   ]
  },
  {
   "cell_type": "code",
   "execution_count": null,
   "metadata": {},
   "outputs": [],
   "source": [
    "def convert_to_tokens(words):\n",
    "    return [vocab.get(word, vocab['UNK']) for word in words]\n",
    "\n",
    "df['tokenized_Q'] = df['clean_Q'].apply(convert_to_tokens)\n",
    "df['tokenized_A'] = df['clean_A'].apply(convert_to_tokens)"
   ]
  },
  {
   "cell_type": "code",
   "execution_count": null,
   "metadata": {},
   "outputs": [],
   "source": [
    "from torch.utils.data import DataLoader,Dataset\n",
    "import torch"
   ]
  },
  {
   "cell_type": "code",
   "execution_count": null,
   "metadata": {},
   "outputs": [],
   "source": [
    "class QADataset(Dataset):\n",
    "\n",
    "    def __init__(self,df,vocab):\n",
    "        self.df = df\n",
    "        self.vocab = vocab\n",
    "    \n",
    "    def __len__(self):\n",
    "        return self.df.shape[0]\n",
    "    \n",
    "    def __getitem__(self, index):\n",
    "        questions = torch.tensor(self.df['tokenized_Q'].iloc[index])\n",
    "        answers = torch.tensor(self.df['tokenized_A'].iloc[index])\n",
    "        return questions, answers"
   ]
  },
  {
   "cell_type": "code",
   "execution_count": null,
   "metadata": {},
   "outputs": [],
   "source": [
    "dataset = QADataset(df,vocab)\n"
   ]
  },
  {
   "cell_type": "code",
   "execution_count": null,
   "metadata": {},
   "outputs": [],
   "source": [
    "dataloader = DataLoader(dataset=dataset, batch_size=1,shuffle=True)"
   ]
  },
  {
   "cell_type": "code",
   "execution_count": null,
   "metadata": {},
   "outputs": [],
   "source": [
    "model = simpleRnn(len(vocab),100,64)\n"
   ]
  },
  {
   "cell_type": "code",
   "execution_count": null,
   "metadata": {},
   "outputs": [],
   "source": [
    "loss = nn.CrossEntropyLoss()\n",
    "optimizer = optim.Adam(model.parameters())"
   ]
  },
  {
   "cell_type": "code",
   "execution_count": null,
   "metadata": {},
   "outputs": [
    {
     "data": {
      "text/plain": [
       "simpleRnn(\n",
       "  (embedding_layer): Embedding(324, 100)\n",
       "  (encoding_layer): RNN(100, 64, batch_first=True)\n",
       "  (fc): Linear(in_features=64, out_features=324, bias=True)\n",
       ")"
      ]
     },
     "execution_count": 17,
     "metadata": {},
     "output_type": "execute_result"
    }
   ],
   "source": [
    "model"
   ]
  },
  {
   "cell_type": "code",
   "execution_count": null,
   "metadata": {},
   "outputs": [],
   "source": [
    "epochs = 20\n",
    "track_loss = []\n"
   ]
  },
  {
   "cell_type": "code",
   "execution_count": 59,
   "metadata": {},
   "outputs": [
    {
     "name": "stdout",
     "output_type": "stream",
     "text": [
      "Epoch:1\t Loss:526.8921\n",
      "Epoch:2\t Loss:444.1317\n",
      "Epoch:3\t Loss:362.1520\n",
      "Epoch:4\t Loss:287.5827\n",
      "Epoch:5\t Loss:226.1638\n",
      "Epoch:6\t Loss:174.7701\n",
      "Epoch:7\t Loss:131.2595\n",
      "Epoch:8\t Loss:98.3683\n",
      "Epoch:9\t Loss:73.4149\n",
      "Epoch:10\t Loss:56.5397\n",
      "Epoch:11\t Loss:43.7458\n",
      "Epoch:12\t Loss:35.1321\n",
      "Epoch:13\t Loss:28.4309\n",
      "Epoch:14\t Loss:23.9260\n",
      "Epoch:15\t Loss:20.0147\n",
      "Epoch:16\t Loss:17.3433\n",
      "Epoch:17\t Loss:14.8238\n",
      "Epoch:18\t Loss:12.7033\n",
      "Epoch:19\t Loss:11.1752\n",
      "Epoch:20\t Loss:9.8483\n"
     ]
    }
   ],
   "source": [
    "for epoch in range(epochs):\n",
    "    total_loss=0\n",
    "    for q,a in dataloader:\n",
    "        optimizer.zero_grad()\n",
    "        prediction = model(q)\n",
    "        pred_loss = loss(prediction,a[0])\n",
    "        pred_loss.backward()\n",
    "        optimizer.step()\n",
    "        total_loss+=(pred_loss.item())\n",
    "    print(f\"Epoch:{epoch+1}\\t Loss:{total_loss:.4f}\")\n",
    "    track_loss.append(total_loss)"
   ]
  },
  {
   "cell_type": "code",
   "execution_count": 60,
   "metadata": {},
   "outputs": [
    {
     "data": {
      "image/png": "[encoded data removed]",
      "text/plain": [
       "<Figure size 640x480 with 1 Axes>"
      ]
     },
     "metadata": {},
     "output_type": "display_data"
    }
   ],
   "source": [
    "import matplotlib.pyplot as plt\n",
    "\n",
    "plt.plot(track_loss)\n",
    "plt.title(\"Training Loss Over Epochs\")\n",
    "plt.xlabel(\"Epochs\")\n",
    "plt.ylabel(\"Loss\")\n",
    "plt.grid()\n",
    "plt.show()"
   ]
  },
  {
   "cell_type": "code",
   "execution_count": 61,
   "metadata": {},
   "outputs": [],
   "source": [
    "def predict(model, question, threshold=0.5):\n",
    "\n",
    "    # convert question to numbers\n",
    "    numerical_question = convert_to_tokens(question)\n",
    "\n",
    "    # tensor\n",
    "    question_tensor = torch.tensor(numerical_question).unsqueeze(0)\n",
    "\n",
    "    # send to model\n",
    "    output = model(question_tensor)\n",
    "\n",
    "    # convert logits to probs\n",
    "    probs = torch.nn.functional.softmax(output, dim=1)\n",
    "\n",
    "    # find index of max prob\n",
    "    value, index = torch.max(probs, dim=1)\n",
    "    print(value, index)\n",
    "    if value < threshold:\n",
    "        print(\"I don't know\")\n",
    "\n",
    "    print(list(vocab.keys())[index])"
   ]
  },
  {
   "cell_type": "code",
   "execution_count": 62,
   "metadata": {},
   "outputs": [
    {
     "name": "stdout",
     "output_type": "stream",
     "text": [
      "tensor([0.0217], grad_fn=<MaxBackward0>) tensor([300])\n",
      "I don't know\n",
      "february\n"
     ]
    }
   ],
   "source": [
    "predict(model,\"capital of paris\")"
   ]
  },
  {
   "cell_type": "code",
   "execution_count": 36,
   "metadata": {},
   "outputs": [
    {
     "data": {
      "text/plain": [
       "tensor([1, 2, 3, 4, 5, 6])"
      ]
     },
     "execution_count": 36,
     "metadata": {},
     "output_type": "execute_result"
    }
   ],
   "source": [
    "dataset[0][0]"
   ]
  },
  {
   "cell_type": "code",
   "execution_count": null,
   "metadata": {},
   "outputs": [],
   "source": []
  }
 ],
 "metadata": {
  "kernelspec": {
   "display_name": "gen-ai",
   "language": "python",
   "name": "python3"
  },
  "language_info": {
   "codemirror_mode": {
    "name": "ipython",
    "version": 3
   },
   "file_extension": ".py",
   "mimetype": "text/x-python",
   "name": "python",
   "nbconvert_exporter": "python",
   "pygments_lexer": "ipython3",
   "version": "3.12.0"
  }
 },
 "nbformat": 4,
 "nbformat_minor": 5
}
